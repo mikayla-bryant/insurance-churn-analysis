{
 "cells": [
  {
   "cell_type": "markdown",
   "id": "74a7b437",
   "metadata": {},
   "source": [
    "# Life Insurance Customer Churn Analysis\n"
   ]
  },
  {
   "cell_type": "markdown",
   "id": "c2aae100",
   "metadata": {},
   "source": [
    "## Introduction\n",
    "\n",
    "What drives a customer to remain loyal to their insurance provider, and what factors push them to seek alternatives? In the competitive world of insurance, understanding customer behavior is crucial to retaining policyholders and maintaining steady business growth.\n",
    "\n",
    "This project delves into a dataset centered on life insurance customers, aiming to uncover the key factors influencing customer churn. By analyzing patterns in customer demographics, claims, premiums, and other attributes, we strive to answer critical questions:\n",
    "- What makes a customer more likely to churn?\n",
    "- Are there specific premium categories or claim behaviors that signal dissatisfaction?\n",
    "- What strategies can insurers adopt to retain their customers?\n",
    "\n",
    "The dataset, sourced from [Kaggle](https://www.kaggle.com/datasets/usmanfarid/customer-churn-dataset-for-life-insurance-industry), offers a snapshot of life insurance customers, including variables such as claim amounts, premium ratios, and churn status. Through this analysis, we hope to shed light on actionable insights that can drive improved customer retention in the insurance industry."
   ]
  },
  {
   "cell_type": "markdown",
   "id": "59f352a4",
   "metadata": {},
   "source": [
    "## Data Preparation"
   ]
  },
  {
   "cell_type": "code",
   "execution_count": 66,
   "id": "93f3b303",
   "metadata": {},
   "outputs": [],
   "source": [
    "import pandas as pd"
   ]
  },
  {
   "cell_type": "code",
   "execution_count": 67,
   "id": "d52f4d04",
   "metadata": {},
   "outputs": [],
   "source": [
    "# Load the dataset\n",
    "df = pd.read_csv('customer_churn_dataset.csv')"
   ]
  },
  {
   "cell_type": "code",
   "execution_count": 68,
   "id": "a4bc1846",
   "metadata": {},
   "outputs": [
    {
     "data": {
      "text/html": [
       "<div>\n",
       "<style scoped>\n",
       "    .dataframe tbody tr th:only-of-type {\n",
       "        vertical-align: middle;\n",
       "    }\n",
       "\n",
       "    .dataframe tbody tr th {\n",
       "        vertical-align: top;\n",
       "    }\n",
       "\n",
       "    .dataframe thead th {\n",
       "        text-align: right;\n",
       "    }\n",
       "</style>\n",
       "<table border=\"1\" class=\"dataframe\">\n",
       "  <thead>\n",
       "    <tr style=\"text-align: right;\">\n",
       "      <th></th>\n",
       "      <th>Unnamed: 0</th>\n",
       "      <th>Customer Name</th>\n",
       "      <th>Customer_Address</th>\n",
       "      <th>Company Name</th>\n",
       "      <th>Claim Reason</th>\n",
       "      <th>Data confidentiality</th>\n",
       "      <th>Claim Amount</th>\n",
       "      <th>Category Premium</th>\n",
       "      <th>Premium/Amount Ratio</th>\n",
       "      <th>Claim Request output</th>\n",
       "      <th>BMI</th>\n",
       "      <th>Churn</th>\n",
       "    </tr>\n",
       "  </thead>\n",
       "  <tbody>\n",
       "    <tr>\n",
       "      <th>0</th>\n",
       "      <td>0</td>\n",
       "      <td>Christine Payne</td>\n",
       "      <td>7627 Anderson Rest Apt. 265,Lake Heather, DC 3...</td>\n",
       "      <td>Williams, Henderson and Perez</td>\n",
       "      <td>Travel</td>\n",
       "      <td>Low</td>\n",
       "      <td>377</td>\n",
       "      <td>4794</td>\n",
       "      <td>0.078640</td>\n",
       "      <td>No</td>\n",
       "      <td>21</td>\n",
       "      <td>Yes</td>\n",
       "    </tr>\n",
       "    <tr>\n",
       "      <th>1</th>\n",
       "      <td>1</td>\n",
       "      <td>Tony Fernandez</td>\n",
       "      <td>3953 Cindy Brook Apt. 147,East Lindatown, TN 4...</td>\n",
       "      <td>Moore-Goodwin</td>\n",
       "      <td>Medical</td>\n",
       "      <td>High</td>\n",
       "      <td>1440</td>\n",
       "      <td>14390</td>\n",
       "      <td>0.100069</td>\n",
       "      <td>No</td>\n",
       "      <td>24</td>\n",
       "      <td>Yes</td>\n",
       "    </tr>\n",
       "    <tr>\n",
       "      <th>2</th>\n",
       "      <td>2</td>\n",
       "      <td>Christopher Kim</td>\n",
       "      <td>8693 Walters Mountains,South Tony, TX 88407</td>\n",
       "      <td>Smith-Holmes</td>\n",
       "      <td>Phone</td>\n",
       "      <td>Medium</td>\n",
       "      <td>256</td>\n",
       "      <td>1875</td>\n",
       "      <td>0.136533</td>\n",
       "      <td>No</td>\n",
       "      <td>18</td>\n",
       "      <td>Yes</td>\n",
       "    </tr>\n",
       "    <tr>\n",
       "      <th>3</th>\n",
       "      <td>3</td>\n",
       "      <td>Nicole Allen</td>\n",
       "      <td>56926 Webster Coves,Shawnmouth, NV 04853</td>\n",
       "      <td>Harrell-Perez</td>\n",
       "      <td>Phone</td>\n",
       "      <td>Medium</td>\n",
       "      <td>233</td>\n",
       "      <td>1875</td>\n",
       "      <td>0.124267</td>\n",
       "      <td>No</td>\n",
       "      <td>24</td>\n",
       "      <td>Yes</td>\n",
       "    </tr>\n",
       "    <tr>\n",
       "      <th>4</th>\n",
       "      <td>4</td>\n",
       "      <td>Linda Cruz</td>\n",
       "      <td>489 Thomas Forges Apt. 305,Jesseton, GA 36765</td>\n",
       "      <td>Simpson, Kramer and Hughes</td>\n",
       "      <td>Phone</td>\n",
       "      <td>Medium</td>\n",
       "      <td>239</td>\n",
       "      <td>1875</td>\n",
       "      <td>0.127467</td>\n",
       "      <td>No</td>\n",
       "      <td>21</td>\n",
       "      <td>Yes</td>\n",
       "    </tr>\n",
       "  </tbody>\n",
       "</table>\n",
       "</div>"
      ],
      "text/plain": [
       "   Unnamed: 0    Customer Name  \\\n",
       "0           0  Christine Payne   \n",
       "1           1   Tony Fernandez   \n",
       "2           2  Christopher Kim   \n",
       "3           3     Nicole Allen   \n",
       "4           4       Linda Cruz   \n",
       "\n",
       "                                    Customer_Address  \\\n",
       "0  7627 Anderson Rest Apt. 265,Lake Heather, DC 3...   \n",
       "1  3953 Cindy Brook Apt. 147,East Lindatown, TN 4...   \n",
       "2        8693 Walters Mountains,South Tony, TX 88407   \n",
       "3           56926 Webster Coves,Shawnmouth, NV 04853   \n",
       "4      489 Thomas Forges Apt. 305,Jesseton, GA 36765   \n",
       "\n",
       "                    Company Name Claim Reason Data confidentiality  \\\n",
       "0  Williams, Henderson and Perez       Travel                  Low   \n",
       "1                  Moore-Goodwin      Medical                 High   \n",
       "2                   Smith-Holmes        Phone               Medium   \n",
       "3                  Harrell-Perez        Phone               Medium   \n",
       "4     Simpson, Kramer and Hughes        Phone               Medium   \n",
       "\n",
       "   Claim Amount  Category Premium  Premium/Amount Ratio Claim Request output  \\\n",
       "0           377              4794              0.078640                   No   \n",
       "1          1440             14390              0.100069                   No   \n",
       "2           256              1875              0.136533                   No   \n",
       "3           233              1875              0.124267                   No   \n",
       "4           239              1875              0.127467                   No   \n",
       "\n",
       "   BMI Churn  \n",
       "0   21   Yes  \n",
       "1   24   Yes  \n",
       "2   18   Yes  \n",
       "3   24   Yes  \n",
       "4   21   Yes  "
      ]
     },
     "execution_count": 68,
     "metadata": {},
     "output_type": "execute_result"
    }
   ],
   "source": [
    "# Examining the data to make sure everything loaded in as expected\n",
    "df.head()"
   ]
  },
  {
   "cell_type": "code",
   "execution_count": 69,
   "id": "8a1b4d71",
   "metadata": {},
   "outputs": [
    {
     "name": "stdout",
     "output_type": "stream",
     "text": [
      "<class 'pandas.core.frame.DataFrame'>\n",
      "RangeIndex: 200000 entries, 0 to 199999\n",
      "Data columns (total 12 columns):\n",
      " #   Column                Non-Null Count   Dtype  \n",
      "---  ------                --------------   -----  \n",
      " 0   Unnamed: 0            200000 non-null  int64  \n",
      " 1   Customer Name         200000 non-null  object \n",
      " 2   Customer_Address      200000 non-null  object \n",
      " 3   Company Name          200000 non-null  object \n",
      " 4   Claim Reason          200000 non-null  object \n",
      " 5   Data confidentiality  200000 non-null  object \n",
      " 6   Claim Amount          200000 non-null  int64  \n",
      " 7   Category Premium      200000 non-null  int64  \n",
      " 8   Premium/Amount Ratio  200000 non-null  float64\n",
      " 9   Claim Request output  200000 non-null  object \n",
      " 10  BMI                   200000 non-null  int64  \n",
      " 11  Churn                 200000 non-null  object \n",
      "dtypes: float64(1), int64(4), object(7)\n",
      "memory usage: 18.3+ MB\n"
     ]
    }
   ],
   "source": [
    "# Checking data types and # of null values in dataset\n",
    "df.info()"
   ]
  },
  {
   "cell_type": "markdown",
   "id": "38cfb089",
   "metadata": {},
   "source": [
    "#### Extraneous Data\n",
    "The dataset contains 11 columns and 200,000 rows. After examining the data, there appears to be an extraneous column, \"Unnamed: 0\", that is not needed for the data analysis and can be removed. The Customer Name and Company Name columns can also be removed since they are irrelevant to the problem we are trying to solve."
   ]
  },
  {
   "cell_type": "code",
   "execution_count": 70,
   "id": "2274338d",
   "metadata": {},
   "outputs": [],
   "source": [
    "# Dropping the Unnamed, Customer Name, and Company Name columns\n",
    "df.drop(columns=['Unnamed: 0', 'Customer Name', 'Company Name'], inplace=True)"
   ]
  },
  {
   "cell_type": "markdown",
   "id": "3d0378ba",
   "metadata": {},
   "source": [
    "#### Standardize and Clean Column Names\n",
    "Renamed columns for readability and consistency. For example, ```Category Premium``` was changed to ```CategoryPremium```."
   ]
  },
  {
   "cell_type": "code",
   "execution_count": 71,
   "id": "a7984504",
   "metadata": {},
   "outputs": [],
   "source": [
    "df.rename(columns={\n",
    "    'Customer_Address': 'CustomerAddress',\n",
    "    'Claim Reason': 'ClaimReason',\n",
    "    'Data confidentiality': 'DataConfidentiality',\n",
    "    'Claim Amount': 'ClaimAmount',\n",
    "    'Category Premium': 'CategoryPremium',\n",
    "    'Premium/Amount Ratio': 'PremiumAmountRatio',\n",
    "    'Claim Request output': 'ClaimRequestOutput'\n",
    "}, inplace=True)"
   ]
  },
  {
   "cell_type": "markdown",
   "id": "e19735ee",
   "metadata": {},
   "source": [
    "#### Checking for Null Values\n",
    "Next, the dataset is double-checked to ensure that there are no null or blank values. Both the info table above and the output below indicate that the data doesn't have any so we can proceed."
   ]
  },
  {
   "cell_type": "code",
   "execution_count": 72,
   "id": "5af887a8",
   "metadata": {},
   "outputs": [
    {
     "name": "stdout",
     "output_type": "stream",
     "text": [
      "CustomerAddress        0\n",
      "ClaimReason            0\n",
      "DataConfidentiality    0\n",
      "ClaimAmount            0\n",
      "CategoryPremium        0\n",
      "PremiumAmountRatio     0\n",
      "ClaimRequestOutput     0\n",
      "BMI                    0\n",
      "Churn                  0\n",
      "dtype: int64\n"
     ]
    }
   ],
   "source": [
    "# Checking for any other missing values in the dataset\n",
    "print(df.isin(['', 'Unknown', 'N/A']).sum())"
   ]
  },
  {
   "cell_type": "markdown",
   "id": "562d32c8",
   "metadata": {},
   "source": [
    "#### Checking for Correct Data Types\n",
    "The dataset contains incorrect data types in the Claim Reason and Data Confidentiality columns. It is more accurate to type these as category columns instead of object columns.\n",
    "- Claim Reason: Updated data type from object to category\n",
    "- Data confidentiality: Updated data type from object to category\n",
    "\n",
    "In addition, we need to map the Claim Request output and Churn to numerical boolean values (0 or 1) for easier analysis and visualization."
   ]
  },
  {
   "cell_type": "code",
   "execution_count": 74,
   "id": "2d22b31c",
   "metadata": {},
   "outputs": [],
   "source": [
    "# Re-typing variables\n",
    "df['ClaimReason'] = df['ClaimReason'].astype('category')\n",
    "df['DataConfidentiality'] = df['DataConfidentiality'].astype('category')\n",
    "df['ClaimRequestOutput'] = df['ClaimRequestOutput'].map({'Yes': 1, 'No': 0})\n",
    "df['Churn'] = df['Churn'].map({'Yes': 1, 'No': 0})"
   ]
  },
  {
   "cell_type": "code",
   "execution_count": 75,
   "id": "2dd7d25c",
   "metadata": {},
   "outputs": [
    {
     "name": "stdout",
     "output_type": "stream",
     "text": [
      "<class 'pandas.core.frame.DataFrame'>\n",
      "RangeIndex: 200000 entries, 0 to 199999\n",
      "Data columns (total 9 columns):\n",
      " #   Column               Non-Null Count   Dtype   \n",
      "---  ------               --------------   -----   \n",
      " 0   CustomerAddress      200000 non-null  object  \n",
      " 1   ClaimReason          200000 non-null  category\n",
      " 2   DataConfidentiality  200000 non-null  category\n",
      " 3   ClaimAmount          200000 non-null  int64   \n",
      " 4   CategoryPremium      200000 non-null  int64   \n",
      " 5   PremiumAmountRatio   200000 non-null  float64 \n",
      " 6   ClaimRequestOutput   200000 non-null  int64   \n",
      " 7   BMI                  200000 non-null  int64   \n",
      " 8   Churn                200000 non-null  int64   \n",
      "dtypes: category(2), float64(1), int64(5), object(1)\n",
      "memory usage: 11.1+ MB\n"
     ]
    }
   ],
   "source": [
    "# Checking the updated info for the dataframe\n",
    "df.info()"
   ]
  },
  {
   "cell_type": "code",
   "execution_count": 76,
   "id": "cb451b29",
   "metadata": {},
   "outputs": [
    {
     "data": {
      "text/html": [
       "<div>\n",
       "<style scoped>\n",
       "    .dataframe tbody tr th:only-of-type {\n",
       "        vertical-align: middle;\n",
       "    }\n",
       "\n",
       "    .dataframe tbody tr th {\n",
       "        vertical-align: top;\n",
       "    }\n",
       "\n",
       "    .dataframe thead th {\n",
       "        text-align: right;\n",
       "    }\n",
       "</style>\n",
       "<table border=\"1\" class=\"dataframe\">\n",
       "  <thead>\n",
       "    <tr style=\"text-align: right;\">\n",
       "      <th></th>\n",
       "      <th>ClaimAmount</th>\n",
       "      <th>CategoryPremium</th>\n",
       "      <th>PremiumAmountRatio</th>\n",
       "      <th>ClaimRequestOutput</th>\n",
       "      <th>BMI</th>\n",
       "      <th>Churn</th>\n",
       "    </tr>\n",
       "  </thead>\n",
       "  <tbody>\n",
       "    <tr>\n",
       "      <th>count</th>\n",
       "      <td>200000.000000</td>\n",
       "      <td>200000.000000</td>\n",
       "      <td>200000.000000</td>\n",
       "      <td>200000.000000</td>\n",
       "      <td>200000.000000</td>\n",
       "      <td>200000.000000</td>\n",
       "    </tr>\n",
       "    <tr>\n",
       "      <th>mean</th>\n",
       "      <td>1120.478840</td>\n",
       "      <td>8963.783895</td>\n",
       "      <td>0.125024</td>\n",
       "      <td>0.035030</td>\n",
       "      <td>23.007205</td>\n",
       "      <td>0.636360</td>\n",
       "    </tr>\n",
       "    <tr>\n",
       "      <th>std</th>\n",
       "      <td>796.660796</td>\n",
       "      <td>6114.737202</td>\n",
       "      <td>0.034742</td>\n",
       "      <td>0.183856</td>\n",
       "      <td>3.164976</td>\n",
       "      <td>0.481048</td>\n",
       "    </tr>\n",
       "    <tr>\n",
       "      <th>min</th>\n",
       "      <td>1.000000</td>\n",
       "      <td>399.000000</td>\n",
       "      <td>0.002506</td>\n",
       "      <td>0.000000</td>\n",
       "      <td>18.000000</td>\n",
       "      <td>0.000000</td>\n",
       "    </tr>\n",
       "    <tr>\n",
       "      <th>25%</th>\n",
       "      <td>245.000000</td>\n",
       "      <td>1875.000000</td>\n",
       "      <td>0.106741</td>\n",
       "      <td>0.000000</td>\n",
       "      <td>20.000000</td>\n",
       "      <td>0.000000</td>\n",
       "    </tr>\n",
       "    <tr>\n",
       "      <th>50%</th>\n",
       "      <td>1390.000000</td>\n",
       "      <td>14390.000000</td>\n",
       "      <td>0.125122</td>\n",
       "      <td>0.000000</td>\n",
       "      <td>23.000000</td>\n",
       "      <td>1.000000</td>\n",
       "    </tr>\n",
       "    <tr>\n",
       "      <th>75%</th>\n",
       "      <td>1844.000000</td>\n",
       "      <td>14390.000000</td>\n",
       "      <td>0.143155</td>\n",
       "      <td>0.000000</td>\n",
       "      <td>26.000000</td>\n",
       "      <td>1.000000</td>\n",
       "    </tr>\n",
       "    <tr>\n",
       "      <th>max</th>\n",
       "      <td>2299.000000</td>\n",
       "      <td>14390.000000</td>\n",
       "      <td>0.248120</td>\n",
       "      <td>1.000000</td>\n",
       "      <td>28.000000</td>\n",
       "      <td>1.000000</td>\n",
       "    </tr>\n",
       "  </tbody>\n",
       "</table>\n",
       "</div>"
      ],
      "text/plain": [
       "         ClaimAmount  CategoryPremium  PremiumAmountRatio  ClaimRequestOutput  \\\n",
       "count  200000.000000    200000.000000       200000.000000       200000.000000   \n",
       "mean     1120.478840      8963.783895            0.125024            0.035030   \n",
       "std       796.660796      6114.737202            0.034742            0.183856   \n",
       "min         1.000000       399.000000            0.002506            0.000000   \n",
       "25%       245.000000      1875.000000            0.106741            0.000000   \n",
       "50%      1390.000000     14390.000000            0.125122            0.000000   \n",
       "75%      1844.000000     14390.000000            0.143155            0.000000   \n",
       "max      2299.000000     14390.000000            0.248120            1.000000   \n",
       "\n",
       "                 BMI          Churn  \n",
       "count  200000.000000  200000.000000  \n",
       "mean       23.007205       0.636360  \n",
       "std         3.164976       0.481048  \n",
       "min        18.000000       0.000000  \n",
       "25%        20.000000       0.000000  \n",
       "50%        23.000000       1.000000  \n",
       "75%        26.000000       1.000000  \n",
       "max        28.000000       1.000000  "
      ]
     },
     "execution_count": 76,
     "metadata": {},
     "output_type": "execute_result"
    }
   ],
   "source": [
    "# Reviewing high-level overview of the quantitative data\n",
    "df.describe()"
   ]
  },
  {
   "cell_type": "markdown",
   "id": "41fa1121",
   "metadata": {},
   "source": [
    "## EDA (Exploratory Data Analysis) Findings"
   ]
  },
  {
   "cell_type": "markdown",
   "id": "1765c193",
   "metadata": {},
   "source": [
    "## Modeling Process"
   ]
  },
  {
   "cell_type": "markdown",
   "id": "4fd5ee8d",
   "metadata": {},
   "source": [
    "## Conclusions and Recommendations"
   ]
  }
 ],
 "metadata": {
  "kernelspec": {
   "display_name": "Python 3",
   "language": "python",
   "name": "python3"
  },
  "language_info": {
   "codemirror_mode": {
    "name": "ipython",
    "version": 3
   },
   "file_extension": ".py",
   "mimetype": "text/x-python",
   "name": "python",
   "nbconvert_exporter": "python",
   "pygments_lexer": "ipython3",
   "version": "3.8.8"
  }
 },
 "nbformat": 4,
 "nbformat_minor": 5
}

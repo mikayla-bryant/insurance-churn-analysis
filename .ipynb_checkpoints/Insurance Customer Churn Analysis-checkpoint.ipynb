{
 "cells": [
  {
   "cell_type": "markdown",
   "id": "fc18afaf",
   "metadata": {},
   "source": [
    "# Life Insurance Customer Churn Analysis\n"
   ]
  },
  {
   "cell_type": "markdown",
   "id": "af33d967",
   "metadata": {},
   "source": [
    "## Introduction\n",
    "\n",
    "What drives a customer to remain loyal to their insurance provider, and what factors push them to seek alternatives? In the competitive world of insurance, understanding customer behavior is crucial to retaining policyholders and maintaining steady business growth.\n",
    "\n",
    "This project delves into a dataset centered on life insurance customers, aiming to uncover the key factors influencing customer churn. By analyzing patterns in customer demographics, claims, premiums, and other attributes, we strive to answer critical questions:\n",
    "- What makes a customer more likely to churn?\n",
    "- Are there specific premium categories or claim behaviors that signal dissatisfaction?\n",
    "- What strategies can insurers adopt to retain their customers?\n",
    "\n",
    "The dataset, sourced from [Kaggle](https://www.kaggle.com/datasets/usmanfarid/customer-churn-dataset-for-life-insurance-industry), offers a snapshot of life insurance customers, including variables such as claim amounts, premium ratios, and churn status. Through this analysis, we hope to shed light on actionable insights that can drive improved customer retention in the insurance industry."
   ]
  },
  {
   "cell_type": "markdown",
   "id": "64ce91e3",
   "metadata": {},
   "source": [
    "## Table of Contents\n",
    "1. [Data Wrangling](#Data-Wrangling)\n",
    "2. [Exploratory Data Analysis](#Exploratory-Data-Analysis)\n",
    "3. [Modeling Process](#Modeling-Process)\n",
    "4. [Conclusions and Recommendations](#Conclusions-and-Recommendations)"
   ]
  },
  {
   "cell_type": "markdown",
   "id": "f0da2f59",
   "metadata": {},
   "source": [
    "## Data Wrangling\n",
    "The data wrangling process involved preparing the dataset for analysis by handling missing values, ensuring consistent formatting, and encoding categorical features for compatibility with machine learning models. Key steps included identifying and addressing outliers, verifying the integrity of data distributions, and normalizing numerical values where necessary. The dataset included features such as ```claimreason```, ```dataconfidentiality```, ```bmi```, and ```claimamount```, which were carefully processed to ensure readiness for exploratory data analysis (EDA) and modeling."
   ]
  },
  {
   "cell_type": "code",
   "execution_count": 1,
   "id": "b0b4752e",
   "metadata": {
    "scrolled": true
   },
   "outputs": [],
   "source": [
    "import pandas as pd\n",
    "import seaborn as sns\n",
    "import numpy as np\n",
    "import matplotlib.pyplot as plt\n",
    "from scipy.stats import zscore\n",
    "from sklearn.model_selection import train_test_split\n",
    "from sklearn.preprocessing import OneHotEncoder\n",
    "from sklearn.compose import ColumnTransformer\n",
    "from sklearn.pipeline import Pipeline\n",
    "from sklearn.linear_model import LogisticRegression"
   ]
  },
  {
   "cell_type": "code",
   "execution_count": 2,
   "id": "fac1169b",
   "metadata": {},
   "outputs": [],
   "source": [
    "# Load the dataset\n",
    "df = pd.read_csv('customer_churn_dataset.csv')"
   ]
  },
  {
   "cell_type": "code",
   "execution_count": 3,
   "id": "e729eade",
   "metadata": {},
   "outputs": [
    {
     "data": {
      "text/html": [
       "<div>\n",
       "<style scoped>\n",
       "    .dataframe tbody tr th:only-of-type {\n",
       "        vertical-align: middle;\n",
       "    }\n",
       "\n",
       "    .dataframe tbody tr th {\n",
       "        vertical-align: top;\n",
       "    }\n",
       "\n",
       "    .dataframe thead th {\n",
       "        text-align: right;\n",
       "    }\n",
       "</style>\n",
       "<table border=\"1\" class=\"dataframe\">\n",
       "  <thead>\n",
       "    <tr style=\"text-align: right;\">\n",
       "      <th></th>\n",
       "      <th>Unnamed: 0</th>\n",
       "      <th>Customer Name</th>\n",
       "      <th>Customer_Address</th>\n",
       "      <th>Company Name</th>\n",
       "      <th>Claim Reason</th>\n",
       "      <th>Data confidentiality</th>\n",
       "      <th>Claim Amount</th>\n",
       "      <th>Category Premium</th>\n",
       "      <th>Premium/Amount Ratio</th>\n",
       "      <th>Claim Request output</th>\n",
       "      <th>BMI</th>\n",
       "      <th>Churn</th>\n",
       "    </tr>\n",
       "  </thead>\n",
       "  <tbody>\n",
       "    <tr>\n",
       "      <th>0</th>\n",
       "      <td>0</td>\n",
       "      <td>Christine Payne</td>\n",
       "      <td>7627 Anderson Rest Apt. 265,Lake Heather, DC 3...</td>\n",
       "      <td>Williams, Henderson and Perez</td>\n",
       "      <td>Travel</td>\n",
       "      <td>Low</td>\n",
       "      <td>377</td>\n",
       "      <td>4794</td>\n",
       "      <td>0.078640</td>\n",
       "      <td>No</td>\n",
       "      <td>21</td>\n",
       "      <td>Yes</td>\n",
       "    </tr>\n",
       "    <tr>\n",
       "      <th>1</th>\n",
       "      <td>1</td>\n",
       "      <td>Tony Fernandez</td>\n",
       "      <td>3953 Cindy Brook Apt. 147,East Lindatown, TN 4...</td>\n",
       "      <td>Moore-Goodwin</td>\n",
       "      <td>Medical</td>\n",
       "      <td>High</td>\n",
       "      <td>1440</td>\n",
       "      <td>14390</td>\n",
       "      <td>0.100069</td>\n",
       "      <td>No</td>\n",
       "      <td>24</td>\n",
       "      <td>Yes</td>\n",
       "    </tr>\n",
       "    <tr>\n",
       "      <th>2</th>\n",
       "      <td>2</td>\n",
       "      <td>Christopher Kim</td>\n",
       "      <td>8693 Walters Mountains,South Tony, TX 88407</td>\n",
       "      <td>Smith-Holmes</td>\n",
       "      <td>Phone</td>\n",
       "      <td>Medium</td>\n",
       "      <td>256</td>\n",
       "      <td>1875</td>\n",
       "      <td>0.136533</td>\n",
       "      <td>No</td>\n",
       "      <td>18</td>\n",
       "      <td>Yes</td>\n",
       "    </tr>\n",
       "    <tr>\n",
       "      <th>3</th>\n",
       "      <td>3</td>\n",
       "      <td>Nicole Allen</td>\n",
       "      <td>56926 Webster Coves,Shawnmouth, NV 04853</td>\n",
       "      <td>Harrell-Perez</td>\n",
       "      <td>Phone</td>\n",
       "      <td>Medium</td>\n",
       "      <td>233</td>\n",
       "      <td>1875</td>\n",
       "      <td>0.124267</td>\n",
       "      <td>No</td>\n",
       "      <td>24</td>\n",
       "      <td>Yes</td>\n",
       "    </tr>\n",
       "    <tr>\n",
       "      <th>4</th>\n",
       "      <td>4</td>\n",
       "      <td>Linda Cruz</td>\n",
       "      <td>489 Thomas Forges Apt. 305,Jesseton, GA 36765</td>\n",
       "      <td>Simpson, Kramer and Hughes</td>\n",
       "      <td>Phone</td>\n",
       "      <td>Medium</td>\n",
       "      <td>239</td>\n",
       "      <td>1875</td>\n",
       "      <td>0.127467</td>\n",
       "      <td>No</td>\n",
       "      <td>21</td>\n",
       "      <td>Yes</td>\n",
       "    </tr>\n",
       "  </tbody>\n",
       "</table>\n",
       "</div>"
      ],
      "text/plain": [
       "   Unnamed: 0    Customer Name  \\\n",
       "0           0  Christine Payne   \n",
       "1           1   Tony Fernandez   \n",
       "2           2  Christopher Kim   \n",
       "3           3     Nicole Allen   \n",
       "4           4       Linda Cruz   \n",
       "\n",
       "                                    Customer_Address  \\\n",
       "0  7627 Anderson Rest Apt. 265,Lake Heather, DC 3...   \n",
       "1  3953 Cindy Brook Apt. 147,East Lindatown, TN 4...   \n",
       "2        8693 Walters Mountains,South Tony, TX 88407   \n",
       "3           56926 Webster Coves,Shawnmouth, NV 04853   \n",
       "4      489 Thomas Forges Apt. 305,Jesseton, GA 36765   \n",
       "\n",
       "                    Company Name Claim Reason Data confidentiality  \\\n",
       "0  Williams, Henderson and Perez       Travel                  Low   \n",
       "1                  Moore-Goodwin      Medical                 High   \n",
       "2                   Smith-Holmes        Phone               Medium   \n",
       "3                  Harrell-Perez        Phone               Medium   \n",
       "4     Simpson, Kramer and Hughes        Phone               Medium   \n",
       "\n",
       "   Claim Amount  Category Premium  Premium/Amount Ratio Claim Request output  \\\n",
       "0           377              4794              0.078640                   No   \n",
       "1          1440             14390              0.100069                   No   \n",
       "2           256              1875              0.136533                   No   \n",
       "3           233              1875              0.124267                   No   \n",
       "4           239              1875              0.127467                   No   \n",
       "\n",
       "   BMI Churn  \n",
       "0   21   Yes  \n",
       "1   24   Yes  \n",
       "2   18   Yes  \n",
       "3   24   Yes  \n",
       "4   21   Yes  "
      ]
     },
     "execution_count": 3,
     "metadata": {},
     "output_type": "execute_result"
    }
   ],
   "source": [
    "# Examining the data to make sure everything loaded in as expected\n",
    "df.head()"
   ]
  },
  {
   "cell_type": "code",
   "execution_count": 4,
   "id": "770fe2e0",
   "metadata": {},
   "outputs": [
    {
     "name": "stdout",
     "output_type": "stream",
     "text": [
      "<class 'pandas.core.frame.DataFrame'>\n",
      "RangeIndex: 200000 entries, 0 to 199999\n",
      "Data columns (total 12 columns):\n",
      " #   Column                Non-Null Count   Dtype  \n",
      "---  ------                --------------   -----  \n",
      " 0   Unnamed: 0            200000 non-null  int64  \n",
      " 1   Customer Name         200000 non-null  object \n",
      " 2   Customer_Address      200000 non-null  object \n",
      " 3   Company Name          200000 non-null  object \n",
      " 4   Claim Reason          200000 non-null  object \n",
      " 5   Data confidentiality  200000 non-null  object \n",
      " 6   Claim Amount          200000 non-null  int64  \n",
      " 7   Category Premium      200000 non-null  int64  \n",
      " 8   Premium/Amount Ratio  200000 non-null  float64\n",
      " 9   Claim Request output  200000 non-null  object \n",
      " 10  BMI                   200000 non-null  int64  \n",
      " 11  Churn                 200000 non-null  object \n",
      "dtypes: float64(1), int64(4), object(7)\n",
      "memory usage: 18.3+ MB\n"
     ]
    }
   ],
   "source": [
    "# Checking data types and # of null values in dataset\n",
    "df.info()"
   ]
  },
  {
   "cell_type": "markdown",
   "id": "41166721",
   "metadata": {},
   "source": [
    "#### Checking for Duplicates\n",
    "The first thing I checked was whether there were any duplicates in the dataset, and none were found."
   ]
  },
  {
   "cell_type": "code",
   "execution_count": 5,
   "id": "60780b44",
   "metadata": {},
   "outputs": [
    {
     "name": "stdout",
     "output_type": "stream",
     "text": [
      "There are 0 duplicates in this dataset.\n"
     ]
    }
   ],
   "source": [
    "duplicates = df.duplicated().sum()\n",
    "print('There are', duplicates, 'duplicates in this dataset.')"
   ]
  },
  {
   "cell_type": "markdown",
   "id": "0b6b32e3",
   "metadata": {},
   "source": [
    "#### Standardize and Clean Column Names\n",
    "Renamed columns for readability and consistency. For example, ```Category Premium``` was changed to ```categorypremium```."
   ]
  },
  {
   "cell_type": "code",
   "execution_count": 6,
   "id": "47d7453f",
   "metadata": {},
   "outputs": [
    {
     "name": "stdout",
     "output_type": "stream",
     "text": [
      "Index(['unnamed:0', 'customername', 'customeraddress', 'companyname',\n",
      "       'claimreason', 'dataconfidentiality', 'claimamount', 'categorypremium',\n",
      "       'premiumamountratio', 'claimrequestoutput', 'bmi', 'churn'],\n",
      "      dtype='object')\n"
     ]
    }
   ],
   "source": [
    "# Remove leading/trailing whitespace, slashes, and underscores\n",
    "df.columns = df.columns.str.strip().str.replace(' ', '').str.replace('/', '').str.replace('_', '').str.lower()\n",
    "\n",
    "# Print the cleaned column names\n",
    "print(df.columns)"
   ]
  },
  {
   "cell_type": "markdown",
   "id": "2fd0d451",
   "metadata": {},
   "source": [
    "#### Creating Customer State Column\n",
    "Extracting the customer state from the customer address column for potential geographic data insights."
   ]
  },
  {
   "cell_type": "code",
   "execution_count": 7,
   "id": "45e8d6dd",
   "metadata": {},
   "outputs": [
    {
     "name": "stdout",
     "output_type": "stream",
     "text": [
      "  customerstate\n",
      "0            DC\n",
      "1            TN\n",
      "2            TX\n",
      "3            NV\n",
      "4            GA\n"
     ]
    }
   ],
   "source": [
    "# Create a new column for customerstate by extracting the state abbreviation\n",
    "df['customerstate'] = df['customeraddress'].str.extract(r'([A-Z]{2})\\s*\\d{5}')\n",
    "\n",
    "# Check the first few rows to verify the transformation\n",
    "print(df[['customerstate']].head())"
   ]
  },
  {
   "cell_type": "markdown",
   "id": "fac59c6c",
   "metadata": {},
   "source": [
    "#### Extraneous Data\n",
    "The dataset contains 11 columns and 200,000 rows. After examining the data, there appears to be an extraneous column, ```unnamed:0```, that is not needed for the data analysis and can be removed. The Customer Name and Company Name columns can also be removed since they are irrelevant to the problem we are trying to solve."
   ]
  },
  {
   "cell_type": "code",
   "execution_count": 8,
   "id": "92ec2745",
   "metadata": {},
   "outputs": [],
   "source": [
    "# Dropping the Unnamed, Customer Name, and Company Name columns\n",
    "df.drop(columns=['unnamed:0', 'customername', 'companyname', 'customeraddress'], inplace=True)"
   ]
  },
  {
   "cell_type": "markdown",
   "id": "a97c9e28",
   "metadata": {},
   "source": [
    "#### Checking for Null Values\n",
    "Next, the dataset is double-checked to ensure that there are no null or blank values. Both the info table above and the output below indicate that the data doesn't have any so we can proceed."
   ]
  },
  {
   "cell_type": "code",
   "execution_count": 9,
   "id": "24d5c375",
   "metadata": {},
   "outputs": [
    {
     "name": "stdout",
     "output_type": "stream",
     "text": [
      "claimreason            0\n",
      "dataconfidentiality    0\n",
      "claimamount            0\n",
      "categorypremium        0\n",
      "premiumamountratio     0\n",
      "claimrequestoutput     0\n",
      "bmi                    0\n",
      "churn                  0\n",
      "customerstate          0\n",
      "dtype: int64\n"
     ]
    }
   ],
   "source": [
    "# Checking for any other missing values in the dataset\n",
    "print(df.isin(['', 'Unknown', 'N/A']).sum())"
   ]
  },
  {
   "cell_type": "markdown",
   "id": "32a33684",
   "metadata": {},
   "source": [
    "#### Checking for Non-Boolean Values\n",
    "The ```claimrequestoutput``` and ```churn``` columns contain boolean values, Yes or No, and will need to be validated to make sure there are no unexpected values."
   ]
  },
  {
   "cell_type": "code",
   "execution_count": 10,
   "id": "af0e1354",
   "metadata": {},
   "outputs": [
    {
     "name": "stdout",
     "output_type": "stream",
     "text": [
      "claimrequestoutput unique values: ['No' 'Yes']\n",
      "churn unique values: ['Yes' 'No']\n"
     ]
    }
   ],
   "source": [
    "# Check unique values in ClaimRequestOutput\n",
    "print(\"claimrequestoutput unique values:\", df['claimrequestoutput'].unique())\n",
    "\n",
    "# Check unique values in Churn\n",
    "print(\"churn unique values:\", df['churn'].unique())"
   ]
  },
  {
   "cell_type": "markdown",
   "id": "a91703d9",
   "metadata": {},
   "source": [
    "#### Checking for Correct Data Types\n",
    "The dataset contains incorrect data types in the Claim Reason and Data Confidentiality columns. It is more accurate to type these as category columns instead of object columns.\n",
    "- Claim Reason: Updated data type from object to category\n",
    "- Data confidentiality: Updated data type from object to category\n",
    "\n",
    "In addition, we need to map the Claim Request output and Churn to numerical boolean values (0 or 1) for easier analysis and visualization."
   ]
  },
  {
   "cell_type": "code",
   "execution_count": 11,
   "id": "b1922a78",
   "metadata": {},
   "outputs": [],
   "source": [
    "# Re-typing variables\n",
    "df['claimreason'] = df['claimreason'].astype('category')\n",
    "df['customerstate'] = df['customerstate'].astype('category')\n",
    "df['dataconfidentiality'] = df['dataconfidentiality'].astype('category')\n",
    "df['claimrequestoutput'] = df['claimrequestoutput'].map({'Yes': 1, 'No': 0})\n",
    "df['churn'] = df['churn'].map({'Yes': 1, 'No': 0})"
   ]
  },
  {
   "cell_type": "code",
   "execution_count": 12,
   "id": "0f5b0697",
   "metadata": {},
   "outputs": [
    {
     "name": "stdout",
     "output_type": "stream",
     "text": [
      "<class 'pandas.core.frame.DataFrame'>\n",
      "RangeIndex: 200000 entries, 0 to 199999\n",
      "Data columns (total 9 columns):\n",
      " #   Column               Non-Null Count   Dtype   \n",
      "---  ------               --------------   -----   \n",
      " 0   claimreason          200000 non-null  category\n",
      " 1   dataconfidentiality  200000 non-null  category\n",
      " 2   claimamount          200000 non-null  int64   \n",
      " 3   categorypremium      200000 non-null  int64   \n",
      " 4   premiumamountratio   200000 non-null  float64 \n",
      " 5   claimrequestoutput   200000 non-null  int64   \n",
      " 6   bmi                  200000 non-null  int64   \n",
      " 7   churn                200000 non-null  int64   \n",
      " 8   customerstate        200000 non-null  category\n",
      "dtypes: category(3), float64(1), int64(5)\n",
      "memory usage: 9.7 MB\n"
     ]
    }
   ],
   "source": [
    "# Checking the updated info for the dataframe\n",
    "df.info()"
   ]
  },
  {
   "cell_type": "code",
   "execution_count": 13,
   "id": "a509d2b2",
   "metadata": {},
   "outputs": [
    {
     "data": {
      "text/html": [
       "<div>\n",
       "<style scoped>\n",
       "    .dataframe tbody tr th:only-of-type {\n",
       "        vertical-align: middle;\n",
       "    }\n",
       "\n",
       "    .dataframe tbody tr th {\n",
       "        vertical-align: top;\n",
       "    }\n",
       "\n",
       "    .dataframe thead th {\n",
       "        text-align: right;\n",
       "    }\n",
       "</style>\n",
       "<table border=\"1\" class=\"dataframe\">\n",
       "  <thead>\n",
       "    <tr style=\"text-align: right;\">\n",
       "      <th></th>\n",
       "      <th>claimamount</th>\n",
       "      <th>categorypremium</th>\n",
       "      <th>premiumamountratio</th>\n",
       "      <th>claimrequestoutput</th>\n",
       "      <th>bmi</th>\n",
       "      <th>churn</th>\n",
       "    </tr>\n",
       "  </thead>\n",
       "  <tbody>\n",
       "    <tr>\n",
       "      <th>count</th>\n",
       "      <td>200000.000000</td>\n",
       "      <td>200000.000000</td>\n",
       "      <td>200000.000000</td>\n",
       "      <td>200000.000000</td>\n",
       "      <td>200000.000000</td>\n",
       "      <td>200000.000000</td>\n",
       "    </tr>\n",
       "    <tr>\n",
       "      <th>mean</th>\n",
       "      <td>1120.478840</td>\n",
       "      <td>8963.783895</td>\n",
       "      <td>0.125024</td>\n",
       "      <td>0.035030</td>\n",
       "      <td>23.007205</td>\n",
       "      <td>0.636360</td>\n",
       "    </tr>\n",
       "    <tr>\n",
       "      <th>std</th>\n",
       "      <td>796.660796</td>\n",
       "      <td>6114.737202</td>\n",
       "      <td>0.034742</td>\n",
       "      <td>0.183856</td>\n",
       "      <td>3.164976</td>\n",
       "      <td>0.481048</td>\n",
       "    </tr>\n",
       "    <tr>\n",
       "      <th>min</th>\n",
       "      <td>1.000000</td>\n",
       "      <td>399.000000</td>\n",
       "      <td>0.002506</td>\n",
       "      <td>0.000000</td>\n",
       "      <td>18.000000</td>\n",
       "      <td>0.000000</td>\n",
       "    </tr>\n",
       "    <tr>\n",
       "      <th>25%</th>\n",
       "      <td>245.000000</td>\n",
       "      <td>1875.000000</td>\n",
       "      <td>0.106741</td>\n",
       "      <td>0.000000</td>\n",
       "      <td>20.000000</td>\n",
       "      <td>0.000000</td>\n",
       "    </tr>\n",
       "    <tr>\n",
       "      <th>50%</th>\n",
       "      <td>1390.000000</td>\n",
       "      <td>14390.000000</td>\n",
       "      <td>0.125122</td>\n",
       "      <td>0.000000</td>\n",
       "      <td>23.000000</td>\n",
       "      <td>1.000000</td>\n",
       "    </tr>\n",
       "    <tr>\n",
       "      <th>75%</th>\n",
       "      <td>1844.000000</td>\n",
       "      <td>14390.000000</td>\n",
       "      <td>0.143155</td>\n",
       "      <td>0.000000</td>\n",
       "      <td>26.000000</td>\n",
       "      <td>1.000000</td>\n",
       "    </tr>\n",
       "    <tr>\n",
       "      <th>max</th>\n",
       "      <td>2299.000000</td>\n",
       "      <td>14390.000000</td>\n",
       "      <td>0.248120</td>\n",
       "      <td>1.000000</td>\n",
       "      <td>28.000000</td>\n",
       "      <td>1.000000</td>\n",
       "    </tr>\n",
       "  </tbody>\n",
       "</table>\n",
       "</div>"
      ],
      "text/plain": [
       "         claimamount  categorypremium  premiumamountratio  claimrequestoutput  \\\n",
       "count  200000.000000    200000.000000       200000.000000       200000.000000   \n",
       "mean     1120.478840      8963.783895            0.125024            0.035030   \n",
       "std       796.660796      6114.737202            0.034742            0.183856   \n",
       "min         1.000000       399.000000            0.002506            0.000000   \n",
       "25%       245.000000      1875.000000            0.106741            0.000000   \n",
       "50%      1390.000000     14390.000000            0.125122            0.000000   \n",
       "75%      1844.000000     14390.000000            0.143155            0.000000   \n",
       "max      2299.000000     14390.000000            0.248120            1.000000   \n",
       "\n",
       "                 bmi          churn  \n",
       "count  200000.000000  200000.000000  \n",
       "mean       23.007205       0.636360  \n",
       "std         3.164976       0.481048  \n",
       "min        18.000000       0.000000  \n",
       "25%        20.000000       0.000000  \n",
       "50%        23.000000       1.000000  \n",
       "75%        26.000000       1.000000  \n",
       "max        28.000000       1.000000  "
      ]
     },
     "execution_count": 13,
     "metadata": {},
     "output_type": "execute_result"
    }
   ],
   "source": [
    "# Reviewing high-level overview of the quantitative data\n",
    "df.describe()"
   ]
  },
  {
   "cell_type": "markdown",
   "id": "9a33fa02",
   "metadata": {},
   "source": [
    "#### Identifying Outliers\n",
    "Below, I have defined and called a function, ```count_outliers```, that prints out the number of outliers (±3 standard deviations outside of the mean) present in any columns we pass in as a parameter. The output reveals that the ```premiumamountratio``` and ```claimrequestoutput``` contain 4,866 and 7,006 outliers respectively and require further investigation before proceeding."
   ]
  },
  {
   "cell_type": "code",
   "execution_count": 14,
   "id": "52728fdd",
   "metadata": {},
   "outputs": [
    {
     "name": "stdout",
     "output_type": "stream",
     "text": [
      "Number of outliers in claimamount: 0\n",
      "Number of outliers in categorypremium: 0\n",
      "Number of outliers in claimrequestoutput: 7006\n",
      "Number of outliers in premiumamountratio: 4866\n",
      "Number of outliers in bmi: 0\n",
      "Number of outliers in churn: 0\n"
     ]
    }
   ],
   "source": [
    "def count_outliers(df, columns, threshold = 3):\n",
    "    \n",
    "    for col in columns:\n",
    "        z_scores = zscore(df[col])\n",
    "        outliers = (abs(z_scores) > threshold)\n",
    "        print(f\"Number of outliers in {col}: {outliers.sum()}\")\n",
    "\n",
    "count_outliers(df, ['claimamount', 'categorypremium', 'claimrequestoutput', 'premiumamountratio', 'bmi', 'churn'])"
   ]
  },
  {
   "cell_type": "markdown",
   "id": "a44b18e7",
   "metadata": {},
   "source": [
    "The column ```claimrequestoutput``` has already been verified to only contain 0 or 1 as values. Upon closer inspection of the data, the ```claimrequestoutput``` column is heavily imbalanced, with ~96.5% of rows representing ```0 (No)``` and ~3.5% representing ```1 (Yes)```. This imbalance does not indicate errors but reflects the rarity of approved claims in the dataset. "
   ]
  },
  {
   "cell_type": "code",
   "execution_count": 15,
   "id": "8f6e7e57",
   "metadata": {},
   "outputs": [
    {
     "data": {
      "image/png": "[encoded data removed]",
      "text/plain": [
       "<Figure size 432x288 with 1 Axes>"
      ]
     },
     "metadata": {
      "needs_background": "light"
     },
     "output_type": "display_data"
    }
   ],
   "source": [
    "df['claimrequestoutput'].value_counts().plot(kind='bar', color=['blue', 'orange'])\n",
    "plt.title('Distribution of Claim Request Output')\n",
    "plt.xlabel('claimrequestoutput (0 = No, 1 = Yes)')\n",
    "plt.ylabel('Count')\n",
    "plt.show()"
   ]
  },
  {
   "cell_type": "code",
   "execution_count": 16,
   "id": "7d300975",
   "metadata": {},
   "outputs": [
    {
     "name": "stdout",
     "output_type": "stream",
     "text": [
      "0    0.96497\n",
      "1    0.03503\n",
      "Name: claimrequestoutput, dtype: float64\n"
     ]
    }
   ],
   "source": [
    "print(df['claimrequestoutput'].value_counts(normalize=True))"
   ]
  },
  {
   "cell_type": "markdown",
   "id": "298c6451",
   "metadata": {},
   "source": [
    "#### Investigating Premium Amount Ratio\n",
    "The other column with outliers was ```premiumamountratio```. The data is examined more closely to see if there are any commonalities amongst these rows on a high level."
   ]
  },
  {
   "cell_type": "code",
   "execution_count": 17,
   "id": "5624989c",
   "metadata": {},
   "outputs": [
    {
     "name": "stdout",
     "output_type": "stream",
     "text": [
      "     premiumamountratio  categorypremium  bmi  claimamount\n",
      "40             0.005013              399   28            2\n",
      "53             0.233083              399   18           93\n",
      "139            0.238095              399   26           95\n",
      "195            0.020050              399   22            8\n",
      "259            0.017544              399   25            7\n"
     ]
    }
   ],
   "source": [
    "# Identify rows with outliers in PremiumAmountRatio\n",
    "z_scores = zscore(df['premiumamountratio'])\n",
    "premium_outliers = df[np.abs(z_scores) > 3]\n",
    "print(premium_outliers[['premiumamountratio', 'categorypremium', 'bmi', 'claimamount']].head())"
   ]
  },
  {
   "cell_type": "markdown",
   "id": "b43483bf",
   "metadata": {},
   "source": [
    "#### Exploring the Relationship Between Premium Amount Ratio Outliers and Category Premium\n",
    "When examining the outliers more closely, it was discovered that all of the outliers belong to a specific policy category, ```399```. "
   ]
  },
  {
   "cell_type": "code",
   "execution_count": 18,
   "id": "6df97f3b",
   "metadata": {},
   "outputs": [
    {
     "name": "stdout",
     "output_type": "stream",
     "text": [
      "       categorypremium  premiumamountratio        churn\n",
      "count           4866.0         4866.000000  4866.000000\n",
      "mean             399.0            0.124943     0.638923\n",
      "std                0.0            0.114206     0.480362\n",
      "min              399.0            0.002506     0.000000\n",
      "25%              399.0            0.010025     0.000000\n",
      "50%              399.0            0.020050     1.000000\n",
      "75%              399.0            0.238095     1.000000\n",
      "max              399.0            0.248120     1.000000\n"
     ]
    }
   ],
   "source": [
    "print(premium_outliers[['categorypremium', 'premiumamountratio', 'churn']].describe())"
   ]
  },
  {
   "cell_type": "markdown",
   "id": "7cce12bc",
   "metadata": {},
   "source": [
    "The churn rate does not appear to differ much between the outlier values and the overall dataset. Thus, I've made the decision to leave these values in since it only represents 2% of the dataset and preserves the integrity of the data."
   ]
  },
  {
   "cell_type": "code",
   "execution_count": 19,
   "id": "b2117476",
   "metadata": {},
   "outputs": [
    {
     "name": "stdout",
     "output_type": "stream",
     "text": [
      "Churn Rate for CategoryPremium 399: 0.6361347599960248\n",
      "Churn Rate for Other Policies: 0.6364000400440485\n"
     ]
    }
   ],
   "source": [
    "# Segment the data\n",
    "policy_399 = df[df['categorypremium'] == 399]\n",
    "other_policies = df[df['categorypremium'] != 399]\n",
    "\n",
    "# Compare churn rates\n",
    "print(\"Churn Rate for CategoryPremium 399:\", policy_399['churn'].mean())\n",
    "print(\"Churn Rate for Other Policies:\", other_policies['churn'].mean())"
   ]
  },
  {
   "cell_type": "markdown",
   "id": "7bd5b303",
   "metadata": {},
   "source": [
    "## Exploratory Data Analysis\n",
    "The exploratory data analysis focused on understanding customer churn behavior across key variables. Below is a summary of key insights:\n",
    "\n",
    "The analysis revealed:\n",
    "\n",
    "1. **BMI's Dominance**: ```bmi``` is the strongest feature, perfectly separating churned and retained customers.\n",
    "2. **Weak Predictive Power of Other Features**: Features like ```categorypremium```, ```claimreason```, and ```claimamount``` contribute minimally to churn predictions.\n",
    "3. **Class Imbalance and Overlap**: While ```churn``` is imbalanced (63.6% churn), most features show significant overlap between classes, making them poor predictors."
   ]
  },
  {
   "cell_type": "code",
   "execution_count": 20,
   "id": "bd0d9be6",
   "metadata": {},
   "outputs": [
    {
     "name": "stdout",
     "output_type": "stream",
     "text": [
      "bmi\n",
      "18    1\n",
      "19    1\n",
      "20    1\n",
      "21    1\n",
      "22    1\n",
      "23    1\n",
      "24    1\n",
      "25    0\n",
      "26    0\n",
      "27    0\n",
      "28    0\n",
      "Name: churn, dtype: int64\n"
     ]
    },
    {
     "data": {
      "image/png": "[encoded data removed]",
      "text/plain": [
       "<Figure size 864x432 with 1 Axes>"
      ]
     },
     "metadata": {
      "needs_background": "light"
     },
     "output_type": "display_data"
    }
   ],
   "source": [
    "churn_by_bmi = df.groupby('bmi')['churn'].mean().sort_values(ascending=False)\n",
    "print(churn_by_bmi)\n",
    "churn_by_bmi.plot(kind='bar', figsize=(12, 6))\n",
    "plt.title('Churn Rate by BMI')\n",
    "plt.ylabel('Churn Rate')\n",
    "plt.show()"
   ]
  },
  {
   "cell_type": "code",
   "execution_count": 21,
   "id": "74bc437f",
   "metadata": {},
   "outputs": [
    {
     "name": "stdout",
     "output_type": "stream",
     "text": [
      "categorypremium\n",
      "4794     0.640743\n",
      "14390    0.636256\n",
      "399      0.636135\n",
      "1875     0.632596\n",
      "Name: churn, dtype: float64\n"
     ]
    },
    {
     "data": {
      "image/png": "[encoded data removed]",
      "text/plain": [
       "<Figure size 864x432 with 1 Axes>"
      ]
     },
     "metadata": {
      "needs_background": "light"
     },
     "output_type": "display_data"
    }
   ],
   "source": [
    "churn_by_category_premium = df.groupby('categorypremium')['churn'].mean().sort_values(ascending=False)\n",
    "print(churn_by_category_premium)\n",
    "churn_by_category_premium.plot(kind='bar', figsize=(12, 6))\n",
    "plt.title('Churn Rate by Category Premium')\n",
    "plt.ylabel('Churn Rate')\n",
    "plt.show()"
   ]
  },
  {
   "cell_type": "code",
   "execution_count": 22,
   "id": "e8ce3d56",
   "metadata": {},
   "outputs": [
    {
     "name": "stdout",
     "output_type": "stream",
     "text": [
      "dataconfidentiality\n",
      "Low         0.640743\n",
      "High        0.636256\n",
      "Very low    0.636135\n",
      "Medium      0.632596\n",
      "Name: churn, dtype: float64\n"
     ]
    },
    {
     "data": {
      "image/png": "[encoded data removed]",
      "text/plain": [
       "<Figure size 864x432 with 1 Axes>"
      ]
     },
     "metadata": {
      "needs_background": "light"
     },
     "output_type": "display_data"
    }
   ],
   "source": [
    "churn_by_data_confidentiality = df.groupby('dataconfidentiality')['churn'].mean().sort_values(ascending=False)\n",
    "print(churn_by_data_confidentiality)\n",
    "churn_by_data_confidentiality.plot(kind='bar', figsize=(12, 6))\n",
    "plt.title('Churn Rate by Data Confidentiality')\n",
    "plt.ylabel('Churn Rate')\n",
    "plt.show()"
   ]
  },
  {
   "cell_type": "code",
   "execution_count": 23,
   "id": "a8fc26da",
   "metadata": {},
   "outputs": [
    {
     "name": "stdout",
     "output_type": "stream",
     "text": [
      "claimrequestoutput\n",
      "0    0.636414\n",
      "1    0.634884\n",
      "Name: churn, dtype: float64\n"
     ]
    },
    {
     "data": {
      "image/png": "[encoded data removed]",
      "text/plain": [
       "<Figure size 864x432 with 1 Axes>"
      ]
     },
     "metadata": {
      "needs_background": "light"
     },
     "output_type": "display_data"
    }
   ],
   "source": [
    "churn_by_claim_request_output = df.groupby('claimrequestoutput')['churn'].mean().sort_values(ascending=False)\n",
    "print(churn_by_claim_request_output)\n",
    "churn_by_claim_request_output.plot(kind='bar', figsize=(12, 6))\n",
    "plt.title('Churn Rate by Claim Request Output')\n",
    "plt.ylabel('Churn Rate')\n",
    "plt.show()"
   ]
  },
  {
   "cell_type": "code",
   "execution_count": 24,
   "id": "fe7b5752",
   "metadata": {},
   "outputs": [
    {
     "name": "stdout",
     "output_type": "stream",
     "text": [
      "claimreason\n",
      "Travel     0.640743\n",
      "Medical    0.636256\n",
      "Other      0.636135\n",
      "Phone      0.632596\n",
      "Name: churn, dtype: float64\n"
     ]
    },
    {
     "data": {
      "image/png": "[encoded data removed]",
      "text/plain": [
       "<Figure size 864x432 with 1 Axes>"
      ]
     },
     "metadata": {
      "needs_background": "light"
     },
     "output_type": "display_data"
    }
   ],
   "source": [
    "churn_by_claim_reason = df.groupby('claimreason')['churn'].mean().sort_values(ascending=False)\n",
    "print(churn_by_claim_reason)\n",
    "churn_by_claim_reason.plot(kind='bar', figsize=(12, 6))\n",
    "plt.title('Churn Rate by Claim Reason')\n",
    "plt.ylabel('Churn Rate')\n",
    "plt.show()"
   ]
  },
  {
   "cell_type": "code",
   "execution_count": 25,
   "id": "2a7540e4",
   "metadata": {},
   "outputs": [
    {
     "data": {
      "image/png": "[encoded data removed]",
      "text/plain": [
       "<Figure size 864x432 with 1 Axes>"
      ]
     },
     "metadata": {
      "needs_background": "light"
     },
     "output_type": "display_data"
    }
   ],
   "source": [
    "churn_by_state = df.groupby('customerstate')['churn'].mean().sort_values(ascending=False)\n",
    "churn_by_state.plot(kind='bar', figsize=(12, 6))\n",
    "plt.title('Churn Rate by State')\n",
    "plt.ylabel('Churn Rate')\n",
    "plt.show()"
   ]
  },
  {
   "cell_type": "code",
   "execution_count": 26,
   "id": "134be25f",
   "metadata": {},
   "outputs": [],
   "source": [
    "state_churn_rate = df.groupby('customerstate')['churn'].mean().reset_index()\n",
    "state_churn_rate.to_csv('state_churn_rate.csv', index=False)"
   ]
  },
  {
   "cell_type": "markdown",
   "id": "972b18d2",
   "metadata": {},
   "source": [
    "#### Visualizing Churn Rates By State\n",
    "Below is a visualization of the churn rates by US state. Here is a link to the interactive dashboard in Tableau: [Interactive Churn Rate Map](https://public.tableau.com/app/profile/mikayla.bryant/viz/ChurnRatesByStateLifeInsurance/Sheet1#1)\n",
    "\n",
    "There doesn't appear to be a specific pattern in the data. If there is any correlation, we would need additional data to investigate.\n",
    "![Churn Rate Map](Churn_Rates_By_State.png)"
   ]
  },
  {
   "cell_type": "code",
   "execution_count": 27,
   "id": "e0bfb488",
   "metadata": {},
   "outputs": [
    {
     "name": "stdout",
     "output_type": "stream",
     "text": [
      "Healthy        108979\n",
      "Overweight      72728\n",
      "Underweight     18293\n",
      "Name: bmi_category, dtype: int64\n"
     ]
    },
    {
     "data": {
      "image/png": "[encoded data removed]",
      "text/plain": [
       "<Figure size 432x288 with 1 Axes>"
      ]
     },
     "metadata": {
      "needs_background": "light"
     },
     "output_type": "display_data"
    },
    {
     "name": "stdout",
     "output_type": "stream",
     "text": [
      "bmi_category\n",
      "Healthy        1\n",
      "Overweight     0\n",
      "Underweight    1\n",
      "Name: churn, dtype: int64\n"
     ]
    },
    {
     "data": {
      "image/png": "[encoded data removed]",
      "text/plain": [
       "<Figure size 432x288 with 1 Axes>"
      ]
     },
     "metadata": {
      "needs_background": "light"
     },
     "output_type": "display_data"
    }
   ],
   "source": [
    "# Define BMI categories based on standard ranges\n",
    "def categorize_bmi(bmi):\n",
    "    if bmi < 18.5:\n",
    "        return 'Underweight'\n",
    "    elif 18.5 <= bmi < 24.9:\n",
    "        return 'Healthy'\n",
    "    elif 25 <= bmi < 29.9:\n",
    "        return 'Overweight'\n",
    "    else:\n",
    "        return 'Obese'\n",
    "\n",
    "# Apply the function to create a new BMI category column\n",
    "df['bmi_category'] = df['bmi'].apply(categorize_bmi)\n",
    "\n",
    "# Verify the distribution of the BMI categories\n",
    "print(df['bmi_category'].value_counts())\n",
    "\n",
    "df['bmi_category'].value_counts().plot(kind='bar', color='skyblue', edgecolor='black')\n",
    "plt.title('Distribution of BMI Categories')\n",
    "plt.xlabel('BMI Category')\n",
    "plt.ylabel('Count')\n",
    "plt.xticks(rotation=0)\n",
    "plt.show()\n",
    "\n",
    "# Group by BMI category and calculate churn rates\n",
    "bmi_churn_rate = df.groupby('bmi_category')['churn'].mean()\n",
    "\n",
    "# Print churn rates for each BMI category\n",
    "print(bmi_churn_rate)\n",
    "\n",
    "bmi_churn_rate.plot(kind='bar', color='coral', edgecolor='black')\n",
    "plt.title('Churn Rate by BMI Category')\n",
    "plt.xlabel('BMI Category')\n",
    "plt.ylabel('Churn Rate')\n",
    "plt.xticks(rotation=0)\n",
    "plt.show()"
   ]
  },
  {
   "cell_type": "code",
   "execution_count": 28,
   "id": "2e233393",
   "metadata": {},
   "outputs": [
    {
     "data": {
      "image/png": "[encoded data removed]",
      "text/plain": [
       "<Figure size 432x288 with 1 Axes>"
      ]
     },
     "metadata": {
      "needs_background": "light"
     },
     "output_type": "display_data"
    },
    {
     "name": "stdout",
     "output_type": "stream",
     "text": [
      "Mean Claim Amount by Churn Status:\n",
      "churn\n",
      "0    1119.940436\n",
      "1    1120.786504\n",
      "Name: claimamount, dtype: float64\n",
      "\n",
      "Median Claim Amount by Churn Status:\n",
      "churn\n",
      "0    1390\n",
      "1    1389\n",
      "Name: claimamount, dtype: int64\n"
     ]
    }
   ],
   "source": [
    "# Plot distribution of claimamount for churned and retained customers\n",
    "sns.histplot(data=df, x='claimamount', hue='churn', kde=True, bins=30, palette='muted')\n",
    "plt.title('Distribution of Claim Amount for Churned vs. Retained Customers')\n",
    "plt.xlabel('Claim Amount')\n",
    "plt.ylabel('Frequency')\n",
    "plt.legend(title='Churn', labels=['Retained (0)', 'Churned (1)'])\n",
    "plt.show()\n",
    "\n",
    "# Calculate mean and median claim amounts for churned vs. retained customers\n",
    "mean_claim = df.groupby('churn')['claimamount'].mean()\n",
    "median_claim = df.groupby('churn')['claimamount'].median()\n",
    "\n",
    "print(\"Mean Claim Amount by Churn Status:\")\n",
    "print(mean_claim)\n",
    "\n",
    "print(\"\\nMedian Claim Amount by Churn Status:\")\n",
    "print(median_claim)"
   ]
  },
  {
   "cell_type": "markdown",
   "id": "7f9ca816",
   "metadata": {},
   "source": [
    "## Modeling Process"
   ]
  },
  {
   "cell_type": "markdown",
   "id": "27b80a4b",
   "metadata": {},
   "source": [
    "The goal of the modeling process was to build a logistic regression model to predict customer churn based on the given features. The process included:\n",
    "\n",
    "1. **Feature Engineering**: Numerical features were passed through as-is, while categorical features (claimreason, dataconfidentiality, customerstate) were one-hot encoded.\n",
    "2. **Training and Testing Split**: The data was split into training (80%) and testing (20%) sets, ensuring the class distribution was preserved using stratification.\n",
    "3. **Model Training**: A logistic regression model was trained using the processed features. However, the model achieved perfect accuracy, indicating potential overfitting due to the dominance of bmi. Further steps included re-evaluating the feature set to mitigate this effect and assess the model's performance more realistically.\n",
    "\n",
    "The modeling process underscores the importance of balancing feature influence and addressing potential pitfalls such as feature dominance and class imbalance."
   ]
  },
  {
   "cell_type": "code",
   "execution_count": 29,
   "id": "c1ef7f3d",
   "metadata": {},
   "outputs": [],
   "source": [
    "# Define the categorical and numerical columns\n",
    "categorical_columns = ['claimreason', 'dataconfidentiality', 'customerstate']\n",
    "numerical_columns = ['bmi', 'claimamount', 'categorypremium', 'premiumamountratio', 'claimrequestoutput']\n",
    "\n",
    "# Define preprocessing pipeline\n",
    "preprocessor = ColumnTransformer(\n",
    "    transformers=[\n",
    "        ('num', 'passthrough', numerical_columns),\n",
    "        ('cat', OneHotEncoder(handle_unknown='ignore'), categorical_columns)\n",
    "    ]\n",
    ")\n",
    "\n",
    "# Split data into features and target\n",
    "X = df.drop('churn', axis=1)  # Features\n",
    "y = df['churn']              # Target for prediction\n",
    "\n",
    "# Split into training and testing sets (80/20 split)\n",
    "X_train, X_test, y_train, y_test = train_test_split(\n",
    "    X, y, test_size=0.2, random_state=42, stratify=y\n",
    ")\n",
    "\n",
    "# Preprocess the training and testing features\n",
    "X_train_preprocessed = preprocessor.fit_transform(X_train)\n",
    "X_test_preprocessed = preprocessor.transform(X_test)\n",
    "\n",
    "# Train logistic regression model on the training data\n",
    "logreg = LogisticRegression(max_iter=1000, random_state=42)\n",
    "logreg.fit(X_train_preprocessed, y_train)\n",
    "\n",
    "# Predict on the test set\n",
    "y_pred = logreg.predict(X_test_preprocessed)"
   ]
  },
  {
   "cell_type": "code",
   "execution_count": 30,
   "id": "643ed0f6",
   "metadata": {},
   "outputs": [
    {
     "name": "stdout",
     "output_type": "stream",
     "text": [
      "Feature correlations with churn:\n",
      " churn                 1.000000\n",
      "premiumamountratio    0.000772\n",
      "claimamount           0.000511\n",
      "categorypremium       0.000425\n",
      "claimrequestoutput   -0.000584\n",
      "bmi                  -0.836014\n",
      "Name: churn, dtype: float64\n"
     ]
    }
   ],
   "source": [
    "# Add churn back into the features for correlation check\n",
    "X_with_target = X.copy()\n",
    "X_with_target['churn'] = y\n",
    "\n",
    "# Calculate correlations\n",
    "correlations = X_with_target.corr()['churn'].sort_values(ascending=False)\n",
    "\n",
    "# Print correlations\n",
    "print(\"Feature correlations with churn:\\n\", correlations)"
   ]
  },
  {
   "cell_type": "markdown",
   "id": "6fb5bc3e",
   "metadata": {},
   "source": [
    "## Conclusions and Recommendations\n",
    "The analysis revealed that BMI fully predicts customer churn in the dataset: customers with a BMI under 25 always churn, while those with a BMI of 25 or higher never churn. This finding is unusual and suggests the mock dataset may be a poorly constructed. Such a strong, perfect relationship is rare in real-world data and warrants further investigation. However, if this data were legitimate, it would point to a highly significant relationship between BMI and churn, likely reflecting deeper, underlying patterns in customer behavior, health, or satisfaction.\n",
    "\n",
    "### Verifying the Dataset\n",
    "To address the possibility of a flawed dataset, the company should begin by auditing its data collection processes. This includes verifying how BMI and churn data were collected, ensuring no biases or errors occurred during sampling or entry, and confirming the accuracy of recorded values. Collaboration with customer-facing teams, such as customer service or marketing, could provide qualitative insights into whether BMI legitimately impacts customer satisfaction and retention.\n",
    "\n",
    "### Addressing Churn if the Data is Legitimate\n",
    "If further verification supports the legitimacy of the dataset, the company should explore the reasons behind such a strong relationship by engaging directly with customers in the under-25 BMI group. Surveys or interviews could shed light on their preferences, needs, and pain points, helping the company better understand why they are more likely to churn. To address these concerns, the company could develop targeted strategies for retention. For instance, tailored health and wellness programs, such as fitness-related incentives or discounts on health services, could resonate with this customer group. Enhanced communication and engagement, including proactive support and personalized offers, may also address potential dissatisfaction early. Additionally, the company could review its products and services to ensure they meet the unique needs of this demographic, potentially introducing offerings better suited to their preferences. Loyalty programs that reward consistent engagement might further encourage retention among this group."
   ]
  },
  {
   "cell_type": "markdown",
   "id": "53c9b6fc",
   "metadata": {},
   "source": [
    "[Back to Top](#Introduction)"
   ]
  }
 ],
 "metadata": {
  "kernelspec": {
   "display_name": "Python 3",
   "language": "python",
   "name": "python3"
  },
  "language_info": {
   "codemirror_mode": {
    "name": "ipython",
    "version": 3
   },
   "file_extension": ".py",
   "mimetype": "text/x-python",
   "name": "python",
   "nbconvert_exporter": "python",
   "pygments_lexer": "ipython3",
   "version": "3.8.8"
  }
 },
 "nbformat": 4,
 "nbformat_minor": 5
}
